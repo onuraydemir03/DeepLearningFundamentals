{
 "cells": [
  {
   "cell_type": "code",
   "execution_count": 3,
   "id": "d1a738dc-4409-4bd6-a33f-eab1d31dfbcf",
   "metadata": {},
   "outputs": [],
   "source": [
    "import import_ipynb\n",
    "import Model\n",
    "\n",
    "import lightning as L\n",
    "import torchmetrics\n",
    "import torch\n",
    "import torch.nn.functional as F"
   ]
  },
  {
   "cell_type": "markdown",
   "id": "df29af23-b33a-45de-84ca-96760c1f01a2",
   "metadata": {},
   "source": [
    "# Lightning Model\n",
    "- Lightning model is more like an interface that allows train & val & test and logging mechanism easier.\n",
    "- You need to implement __init__ with model & hyperparameters. Define train & val & test step operations and optimizer of learning."
   ]
  },
  {
   "cell_type": "code",
   "execution_count": 4,
   "id": "ae88f67b-7cce-4dc9-bedc-4c63167a2a34",
   "metadata": {},
   "outputs": [],
   "source": [
    "class LightningModel(L.LightningModule):\n",
    "    def __init__(self, model, lr):\n",
    "        super().__init__()\n",
    "        self.model = model\n",
    "        self.lr = lr\n",
    "\n",
    "        self.save_hyperparameters(ignore=[\"model\"])\n",
    "        \n",
    "        self.train_acc = torchmetrics.Accuracy(task=\"multiclass\", num_classes=10)\n",
    "        self.val_acc = torchmetrics.Accuracy(task=\"multiclass\", num_classes=10)\n",
    "        self.test_acc = torchmetrics.Accuracy(task=\"multiclass\", num_classes=10)\n",
    "\n",
    "    def forward(self, x):\n",
    "        return self.model(x)\n",
    "\n",
    "    def _common_step(self, batch):\n",
    "        images, true_labels = batch\n",
    "        logits = self(images)\n",
    "        loss = F.cross_entropy(logits, true_labels)\n",
    "        predicted_labels = torch.argmax(logits, dim=1)\n",
    "        return loss, predicted_labels, true_labels\n",
    "    \n",
    "    def training_step(self, batch, batch_idx):\n",
    "        loss, predicted_labels, true_labels = self._common_step(batch)\n",
    "        self.log(\"train_loss\", loss, prog_bar=True, on_step=False, on_epoch=True)\n",
    "        self.train_acc(predicted_labels, true_labels)\n",
    "        self.log(\"train_acc\", self.train_acc, prog_bar=True, on_step=False, on_epoch=True)\n",
    "        return loss\n",
    "\n",
    "    def validation_step(self, batch, batch_idx):\n",
    "        loss, predicted_labels, true_labels = self._common_step(batch)\n",
    "        self.log(\"val_loss\", loss, prog_bar=True, on_step=False, on_epoch=True)\n",
    "        self.val_acc(predicted_labels, true_labels)\n",
    "        self.log(\"val_acc\", self.val_acc, prog_bar=True, on_step=False, on_epoch=True)\n",
    "\n",
    "    def test_step(self, batch, batch_idx):\n",
    "        loss, predicted_labels, true_labels = self._common_step(batch)\n",
    "        self.log(\"test_loss\", loss, prog_bar=True, on_step=False, on_epoch=True)\n",
    "        self.test_acc(predicted_labels, true_labels)\n",
    "        self.log(\"test_acc\", self.test_acc, prog_bar=True, on_step=False, on_epoch=True)\n",
    "\n",
    "    def configure_optimizers(self):\n",
    "        optimizer = torch.optim.SGD(self.parameters(), lr = self.lr)\n",
    "        return optimizer\n",
    "    "
   ]
  },
  {
   "cell_type": "code",
   "execution_count": null,
   "id": "9880db29-a856-4889-a56d-46707412b0cb",
   "metadata": {},
   "outputs": [],
   "source": []
  }
 ],
 "metadata": {
  "kernelspec": {
   "display_name": "remenv",
   "language": "python",
   "name": "remenv"
  },
  "language_info": {
   "codemirror_mode": {
    "name": "ipython",
    "version": 3
   },
   "file_extension": ".py",
   "mimetype": "text/x-python",
   "name": "python",
   "nbconvert_exporter": "python",
   "pygments_lexer": "ipython3",
   "version": "3.9.16"
  }
 },
 "nbformat": 4,
 "nbformat_minor": 5
}

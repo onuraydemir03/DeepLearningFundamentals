{
 "cells": [
  {
   "cell_type": "code",
   "execution_count": 13,
   "id": "726e1168-97e6-44a5-a993-90f2cecf19f8",
   "metadata": {
    "scrolled": true
   },
   "outputs": [],
   "source": [
    "import import_ipynb\n",
    "import Model\n",
    "import Dataset\n",
    "import LightningModel\n",
    "import DataModule\n",
    "\n",
    "import lightning as L\n",
    "from lightning.pytorch.loggers import CSVLogger\n",
    "from lightning.pytorch.callbacks import ModelCheckpoint\n",
    "\n",
    "import pandas as pd\n",
    "import time"
   ]
  },
  {
   "cell_type": "markdown",
   "id": "901be06d-61dc-43e6-9f1f-3ebc9d723f55",
   "metadata": {},
   "source": [
    "# Hyperparameter Tuning"
   ]
  },
  {
   "cell_type": "code",
   "execution_count": 2,
   "id": "20c3f4a1-1779-4da2-970d-e0adf81485c2",
   "metadata": {},
   "outputs": [
    {
     "name": "stderr",
     "output_type": "stream",
     "text": [
      "GPU available: True (cuda), used: True\n",
      "TPU available: False, using: 0 TPU cores\n",
      "IPU available: False, using: 0 IPUs\n",
      "HPU available: False, using: 0 HPUs\n"
     ]
    }
   ],
   "source": [
    "num_epochs = 50\n",
    "lr = 0.1\n",
    "trainer = L.Trainer(max_epochs=num_epochs,\n",
    "                   devices=\"auto\",\n",
    "                   deterministic=True,\n",
    "                   logger=CSVLogger(save_dir=\"./lightning_logs\", name=\"simpson_mnist\"))"
   ]
  },
  {
   "cell_type": "markdown",
   "id": "1b6118e4-c27a-4cc3-8f30-a70190d70670",
   "metadata": {},
   "source": [
    "### Finding a good batch size"
   ]
  },
  {
   "cell_type": "code",
   "execution_count": 3,
   "id": "da1fa9c9-7f67-40c3-b437-ee747831be0c",
   "metadata": {},
   "outputs": [
    {
     "name": "stderr",
     "output_type": "stream",
     "text": [
      "Global seed set to 123\n"
     ]
    }
   ],
   "source": [
    "from lightning.pytorch.tuner import Tuner\n",
    "tuner = Tuner(trainer)\n",
    "L.pytorch.seed_everything(123)\n",
    "model = Model.TorchModel(num_classes=10)\n",
    "lightning_model = LightningModel.LightningModel(model=model, lr=lr)\n",
    "datamodule = DataModule.DataModule()"
   ]
  },
  {
   "cell_type": "code",
   "execution_count": 4,
   "id": "797763ec-2d0e-4ab8-a155-13251499d70f",
   "metadata": {},
   "outputs": [
    {
     "name": "stderr",
     "output_type": "stream",
     "text": [
      "LOCAL_RANK: 0 - CUDA_VISIBLE_DEVICES: [0]\n",
      "/home/onuraydemir/miniconda3/envs/remenv/lib/python3.9/site-packages/lightning/pytorch/trainer/connectors/data_connector.py:438: PossibleUserWarning: The dataloader, train_dataloader, does not have many workers which may be a bottleneck. Consider increasing the value of the `num_workers` argument` (try 8 which is the number of cpus on this machine) in the `DataLoader` init to improve performance.\n",
      "  rank_zero_warn(\n",
      "/home/onuraydemir/miniconda3/envs/remenv/lib/python3.9/site-packages/lightning/pytorch/trainer/connectors/data_connector.py:438: PossibleUserWarning: The dataloader, val_dataloader, does not have many workers which may be a bottleneck. Consider increasing the value of the `num_workers` argument` (try 8 which is the number of cpus on this machine) in the `DataLoader` init to improve performance.\n",
      "  rank_zero_warn(\n",
      "`Trainer.fit` stopped: `max_steps=3` reached.\n",
      "Batch size 2 succeeded, trying batch size 4\n",
      "`Trainer.fit` stopped: `max_steps=3` reached.\n",
      "Batch size 4 succeeded, trying batch size 8\n",
      "`Trainer.fit` stopped: `max_steps=3` reached.\n",
      "Batch size 8 succeeded, trying batch size 16\n",
      "`Trainer.fit` stopped: `max_steps=3` reached.\n",
      "Batch size 16 succeeded, trying batch size 32\n",
      "`Trainer.fit` stopped: `max_steps=3` reached.\n",
      "Batch size 32 succeeded, trying batch size 64\n",
      "`Trainer.fit` stopped: `max_steps=3` reached.\n",
      "Batch size 64 succeeded, trying batch size 128\n",
      "`Trainer.fit` stopped: `max_steps=3` reached.\n",
      "Batch size 128 succeeded, trying batch size 256\n",
      "/home/onuraydemir/miniconda3/envs/remenv/lib/python3.9/site-packages/lightning/pytorch/loops/fit_loop.py:281: PossibleUserWarning: The number of training batches (26) is smaller than the logging interval Trainer(log_every_n_steps=50). Set a lower value for log_every_n_steps if you want to see logs for the training epoch.\n",
      "  rank_zero_warn(\n",
      "`Trainer.fit` stopped: `max_steps=3` reached.\n",
      "Batch size 256 succeeded, trying batch size 512\n",
      "/home/onuraydemir/miniconda3/envs/remenv/lib/python3.9/site-packages/lightning/pytorch/loops/fit_loop.py:281: PossibleUserWarning: The number of training batches (13) is smaller than the logging interval Trainer(log_every_n_steps=50). Set a lower value for log_every_n_steps if you want to see logs for the training epoch.\n",
      "  rank_zero_warn(\n",
      "`Trainer.fit` stopped: `max_steps=3` reached.\n",
      "Batch size 512 succeeded, trying batch size 1024\n",
      "/home/onuraydemir/miniconda3/envs/remenv/lib/python3.9/site-packages/lightning/pytorch/loops/fit_loop.py:281: PossibleUserWarning: The number of training batches (6) is smaller than the logging interval Trainer(log_every_n_steps=50). Set a lower value for log_every_n_steps if you want to see logs for the training epoch.\n",
      "  rank_zero_warn(\n",
      "`Trainer.fit` stopped: `max_steps=3` reached.\n",
      "Batch size 1024 succeeded, trying batch size 2048\n",
      "/home/onuraydemir/miniconda3/envs/remenv/lib/python3.9/site-packages/lightning/pytorch/loops/fit_loop.py:281: PossibleUserWarning: The number of training batches (3) is smaller than the logging interval Trainer(log_every_n_steps=50). Set a lower value for log_every_n_steps if you want to see logs for the training epoch.\n",
      "  rank_zero_warn(\n",
      "`Trainer.fit` stopped: `max_steps=3` reached.\n",
      "Batch size 2048 succeeded, trying batch size 4096\n",
      "/home/onuraydemir/miniconda3/envs/remenv/lib/python3.9/site-packages/lightning/pytorch/loops/fit_loop.py:281: PossibleUserWarning: The number of training batches (1) is smaller than the logging interval Trainer(log_every_n_steps=50). Set a lower value for log_every_n_steps if you want to see logs for the training epoch.\n",
      "  rank_zero_warn(\n",
      "Batch size 4096 failed, trying batch size 2048\n",
      "Finished batch size finder, will continue with full run using batch size 2048\n",
      "Restoring states from the checkpoint path at /home/onuraydemir/Desktop/Code/Notebooks/.scale_batch_size_ec0715bc-f971-44c0-8547-14ba18580477.ckpt\n",
      "Restored all states from the checkpoint at /home/onuraydemir/Desktop/Code/Notebooks/.scale_batch_size_ec0715bc-f971-44c0-8547-14ba18580477.ckpt\n"
     ]
    }
   ],
   "source": [
    "batch_size_finder = tuner.scale_batch_size(model=lightning_model, datamodule=datamodule)"
   ]
  },
  {
   "cell_type": "code",
   "execution_count": 5,
   "id": "bb1b75dc-a5c1-4096-9e3e-21bf5ec93935",
   "metadata": {},
   "outputs": [
    {
     "data": {
      "text/plain": [
       "2048"
      ]
     },
     "execution_count": 5,
     "metadata": {},
     "output_type": "execute_result"
    }
   ],
   "source": [
    "batch_size_finder"
   ]
  },
  {
   "cell_type": "markdown",
   "id": "11e81c88-bcb9-467c-8765-5abf88c841e9",
   "metadata": {},
   "source": [
    "### Finding a good learning rate"
   ]
  },
  {
   "cell_type": "code",
   "execution_count": 6,
   "id": "4a48841b-a096-4318-96bf-6c85a3950ce6",
   "metadata": {},
   "outputs": [
    {
     "name": "stderr",
     "output_type": "stream",
     "text": [
      "Global seed set to 123\n",
      "LOCAL_RANK: 0 - CUDA_VISIBLE_DEVICES: [0]\n",
      "Finding best initial lr: 100%|████████████████| 100/100 [03:28<00:00,  2.12s/it]`Trainer.fit` stopped: `max_steps=100` reached.\n",
      "Finding best initial lr: 100%|████████████████| 100/100 [03:28<00:00,  2.09s/it]\n",
      "Learning rate set to 0.2290867652767775\n",
      "Restoring states from the checkpoint path at /home/onuraydemir/Desktop/Code/Notebooks/.lr_find_fa3137f7-ae1c-4267-9c90-933219e6f5c2.ckpt\n",
      "Restored all states from the checkpoint at /home/onuraydemir/Desktop/Code/Notebooks/.lr_find_fa3137f7-ae1c-4267-9c90-933219e6f5c2.ckpt\n"
     ]
    }
   ],
   "source": [
    "L.pytorch.seed_everything(123)\n",
    "model = Model.TorchModel(num_classes=10)\n",
    "lightning_model = LightningModel.LightningModel(model=model, lr=lr)\n",
    "datamodule = DataModule.DataModule(batch_size=batch_size_finder)\n",
    "lr_finder = tuner.lr_find(model=lightning_model, datamodule=datamodule, early_stop_threshold=100.0)"
   ]
  },
  {
   "cell_type": "code",
   "execution_count": 7,
   "id": "acf416f8-694c-43d0-9107-98ef2cb585f6",
   "metadata": {},
   "outputs": [
    {
     "data": {
      "text/plain": [
       "0.2290867652767775"
      ]
     },
     "execution_count": 7,
     "metadata": {},
     "output_type": "execute_result"
    }
   ],
   "source": [
    "recommended_lr = lr if lr_finder.suggestion() is None else lr_finder.suggestion()\n",
    "recommended_lr"
   ]
  },
  {
   "cell_type": "markdown",
   "id": "70ab6f1e-3f4b-46c1-9266-a3c4b20574be",
   "metadata": {},
   "source": [
    "# Trying combination of other hyperparameters\n",
    "- ex: sunum_deneme.py"
   ]
  },
  {
   "cell_type": "markdown",
   "id": "211906e7-f161-42dd-9b10-eab146056076",
   "metadata": {},
   "source": [
    "# Accelerated Traning"
   ]
  },
  {
   "cell_type": "markdown",
   "id": "d4707455-d672-4252-95f4-82b59bc3e907",
   "metadata": {},
   "source": [
    "### Mixed Precision Training"
   ]
  },
  {
   "cell_type": "markdown",
   "id": "fac3220d-e12a-42c5-9ecf-d83de6d339bc",
   "metadata": {},
   "source": [
    "<img src=\"https://lightningaidev.wpengine.com/wp-content/uploads/2023/05/mp-training.png\" width=1000 height=400>"
   ]
  },
  {
   "cell_type": "code",
   "execution_count": 8,
   "id": "3511f844-d518-417d-8a8b-f47b2aae365c",
   "metadata": {},
   "outputs": [
    {
     "name": "stderr",
     "output_type": "stream",
     "text": [
      "Global seed set to 123\n",
      "Using 16bit Automatic Mixed Precision (AMP)\n",
      "GPU available: True (cuda), used: True\n",
      "TPU available: False, using: 0 TPU cores\n",
      "IPU available: False, using: 0 IPUs\n",
      "HPU available: False, using: 0 HPUs\n"
     ]
    }
   ],
   "source": [
    "L.pytorch.seed_everything(123)\n",
    "model = Model.TorchModel(num_classes=10)\n",
    "lightning_model = LightningModel.LightningModel(model=model, lr=recommended_lr)\n",
    "trainer = L.Trainer(max_epochs=num_epochs,\n",
    "                    devices=\"auto\",\n",
    "                    deterministic=True,\n",
    "                    precision=\"16-mixed\",\n",
    "                    logger=CSVLogger(save_dir=\"./lightning_logs\", name=\"simpson_mnist\"))\n",
    "datamodule = DataModule.DataModule(batch_size=batch_size_finder)"
   ]
  },
  {
   "cell_type": "code",
   "execution_count": 9,
   "id": "71b4ad0e-328c-483a-bee9-57347be1198e",
   "metadata": {},
   "outputs": [
    {
     "name": "stderr",
     "output_type": "stream",
     "text": [
      "LOCAL_RANK: 0 - CUDA_VISIBLE_DEVICES: [0]\n",
      "\n",
      "  | Name      | Type               | Params\n",
      "-------------------------------------------------\n",
      "0 | model     | TorchModel         | 188 K \n",
      "1 | train_acc | MulticlassAccuracy | 0     \n",
      "2 | val_acc   | MulticlassAccuracy | 0     \n",
      "3 | test_acc  | MulticlassAccuracy | 0     \n",
      "-------------------------------------------------\n",
      "188 K     Trainable params\n",
      "0         Non-trainable params\n",
      "188 K     Total params\n",
      "0.754     Total estimated model params size (MB)\n"
     ]
    },
    {
     "name": "stdout",
     "output_type": "stream",
     "text": [
      "Epoch 0: 100%|██████████████████████████| 3/3 [00:06<00:00,  2.03s/it, v_num=37]\n",
      "Validation: 0it [00:00, ?it/s]\u001b[A\n",
      "Validation:   0%|                                         | 0/1 [00:00<?, ?it/s]\u001b[A\n",
      "Validation DataLoader 0:   0%|                            | 0/1 [00:00<?, ?it/s]\u001b[A\n",
      "Epoch 0: 100%|█| 3/3 [00:06<00:00,  2.18s/it, v_num=37, val_loss=2.300, val_acc=\u001b[A\n",
      "Epoch 1: 100%|█| 3/3 [00:06<00:00,  2.00s/it, v_num=37, val_loss=2.300, val_acc=\u001b[A\n",
      "Validation: 0it [00:00, ?it/s]\u001b[A\n",
      "Validation:   0%|                                         | 0/1 [00:00<?, ?it/s]\u001b[A\n",
      "Validation DataLoader 0:   0%|                            | 0/1 [00:00<?, ?it/s]\u001b[A\n",
      "Epoch 1: 100%|█| 3/3 [00:06<00:00,  2.15s/it, v_num=37, val_loss=2.300, val_acc=\u001b[A\n",
      "Epoch 2: 100%|█| 3/3 [00:05<00:00,  1.94s/it, v_num=37, val_loss=2.300, val_acc=\u001b[A\n",
      "Validation: 0it [00:00, ?it/s]\u001b[A\n",
      "Validation:   0%|                                         | 0/1 [00:00<?, ?it/s]\u001b[A\n",
      "Validation DataLoader 0:   0%|                            | 0/1 [00:00<?, ?it/s]\u001b[A\n",
      "Epoch 2: 100%|█| 3/3 [00:06<00:00,  2.10s/it, v_num=37, val_loss=2.280, val_acc=\u001b[A\n",
      "Epoch 3: 100%|█| 3/3 [00:06<00:00,  2.10s/it, v_num=37, val_loss=2.280, val_acc=\u001b[A\n",
      "Validation: 0it [00:00, ?it/s]\u001b[A\n",
      "Validation:   0%|                                         | 0/1 [00:00<?, ?it/s]\u001b[A\n",
      "Validation DataLoader 0:   0%|                            | 0/1 [00:00<?, ?it/s]\u001b[A\n",
      "Epoch 3: 100%|█| 3/3 [00:06<00:00,  2.25s/it, v_num=37, val_loss=2.240, val_acc=\u001b[A\n",
      "Epoch 4: 100%|█| 3/3 [00:06<00:00,  2.08s/it, v_num=37, val_loss=2.240, val_acc=\u001b[A\n",
      "Validation: 0it [00:00, ?it/s]\u001b[A\n",
      "Validation:   0%|                                         | 0/1 [00:00<?, ?it/s]\u001b[A\n",
      "Validation DataLoader 0:   0%|                            | 0/1 [00:00<?, ?it/s]\u001b[A\n",
      "Epoch 4: 100%|█| 3/3 [00:06<00:00,  2.21s/it, v_num=37, val_loss=2.190, val_acc=\u001b[A\n",
      "Epoch 5: 100%|█| 3/3 [00:06<00:00,  2.07s/it, v_num=37, val_loss=2.190, val_acc=\u001b[A\n",
      "Validation: 0it [00:00, ?it/s]\u001b[A\n",
      "Validation:   0%|                                         | 0/1 [00:00<?, ?it/s]\u001b[A\n",
      "Validation DataLoader 0:   0%|                            | 0/1 [00:00<?, ?it/s]\u001b[A\n",
      "Epoch 5: 100%|█| 3/3 [00:06<00:00,  2.23s/it, v_num=37, val_loss=2.070, val_acc=\u001b[A\n",
      "Epoch 6: 100%|█| 3/3 [00:05<00:00,  1.91s/it, v_num=37, val_loss=2.070, val_acc=\u001b[A\n",
      "Validation: 0it [00:00, ?it/s]\u001b[A\n",
      "Validation:   0%|                                         | 0/1 [00:00<?, ?it/s]\u001b[A\n",
      "Validation DataLoader 0:   0%|                            | 0/1 [00:00<?, ?it/s]\u001b[A\n",
      "Epoch 6: 100%|█| 3/3 [00:06<00:00,  2.06s/it, v_num=37, val_loss=1.940, val_acc=\u001b[A\n",
      "Epoch 7: 100%|█| 3/3 [00:06<00:00,  2.05s/it, v_num=37, val_loss=1.940, val_acc=\u001b[A\n",
      "Validation: 0it [00:00, ?it/s]\u001b[A\n",
      "Validation:   0%|                                         | 0/1 [00:00<?, ?it/s]\u001b[A\n",
      "Validation DataLoader 0:   0%|                            | 0/1 [00:00<?, ?it/s]\u001b[A\n",
      "Epoch 7: 100%|█| 3/3 [00:06<00:00,  2.21s/it, v_num=37, val_loss=1.860, val_acc=\u001b[A\n",
      "Epoch 8: 100%|█| 3/3 [00:05<00:00,  1.90s/it, v_num=37, val_loss=1.860, val_acc=\u001b[A\n",
      "Validation: 0it [00:00, ?it/s]\u001b[A\n",
      "Validation:   0%|                                         | 0/1 [00:00<?, ?it/s]\u001b[A\n",
      "Validation DataLoader 0:   0%|                            | 0/1 [00:00<?, ?it/s]\u001b[A\n",
      "Epoch 8: 100%|█| 3/3 [00:06<00:00,  2.04s/it, v_num=37, val_loss=1.630, val_acc=\u001b[A\n",
      "Epoch 9: 100%|█| 3/3 [00:05<00:00,  1.91s/it, v_num=37, val_loss=1.630, val_acc=\u001b[A\n",
      "Validation: 0it [00:00, ?it/s]\u001b[A\n",
      "Validation:   0%|                                         | 0/1 [00:00<?, ?it/s]\u001b[A\n",
      "Validation DataLoader 0:   0%|                            | 0/1 [00:00<?, ?it/s]\u001b[A\n",
      "Epoch 9: 100%|█| 3/3 [00:06<00:00,  2.06s/it, v_num=37, val_loss=1.610, val_acc=\u001b[A\n",
      "Epoch 10: 100%|█| 3/3 [00:05<00:00,  1.92s/it, v_num=37, val_loss=1.610, val_acc\u001b[A\n",
      "Validation: 0it [00:00, ?it/s]\u001b[A\n",
      "Validation:   0%|                                         | 0/1 [00:00<?, ?it/s]\u001b[A\n",
      "Validation DataLoader 0:   0%|                            | 0/1 [00:00<?, ?it/s]\u001b[A\n",
      "Epoch 10: 100%|█| 3/3 [00:06<00:00,  2.06s/it, v_num=37, val_loss=1.490, val_acc\u001b[A\n",
      "Epoch 11: 100%|█| 3/3 [00:06<00:00,  2.00s/it, v_num=37, val_loss=1.490, val_acc\u001b[A\n",
      "Validation: 0it [00:00, ?it/s]\u001b[A\n",
      "Validation:   0%|                                         | 0/1 [00:00<?, ?it/s]\u001b[A\n",
      "Validation DataLoader 0:   0%|                            | 0/1 [00:00<?, ?it/s]\u001b[A\n",
      "Epoch 11: 100%|█| 3/3 [00:06<00:00,  2.14s/it, v_num=37, val_loss=1.450, val_acc\u001b[A\n",
      "Epoch 12: 100%|█| 3/3 [00:06<00:00,  2.05s/it, v_num=37, val_loss=1.450, val_acc\u001b[A\n",
      "Validation: 0it [00:00, ?it/s]\u001b[A\n",
      "Validation:   0%|                                         | 0/1 [00:00<?, ?it/s]\u001b[A\n",
      "Validation DataLoader 0:   0%|                            | 0/1 [00:00<?, ?it/s]\u001b[A\n",
      "Epoch 12: 100%|█| 3/3 [00:06<00:00,  2.20s/it, v_num=37, val_loss=1.350, val_acc\u001b[A\n",
      "Epoch 13: 100%|█| 3/3 [00:06<00:00,  2.02s/it, v_num=37, val_loss=1.350, val_acc\u001b[A\n",
      "Validation: 0it [00:00, ?it/s]\u001b[A\n",
      "Validation:   0%|                                         | 0/1 [00:00<?, ?it/s]\u001b[A\n",
      "Validation DataLoader 0:   0%|                            | 0/1 [00:00<?, ?it/s]\u001b[A\n",
      "Epoch 13: 100%|█| 3/3 [00:06<00:00,  2.17s/it, v_num=37, val_loss=1.500, val_acc\u001b[A\n",
      "Epoch 14: 100%|█| 3/3 [00:06<00:00,  2.32s/it, v_num=37, val_loss=1.500, val_acc\u001b[A\n",
      "Validation: 0it [00:00, ?it/s]\u001b[A\n",
      "Validation:   0%|                                         | 0/1 [00:00<?, ?it/s]\u001b[A\n",
      "Validation DataLoader 0:   0%|                            | 0/1 [00:00<?, ?it/s]\u001b[A\n",
      "Epoch 14: 100%|█| 3/3 [00:07<00:00,  2.46s/it, v_num=37, val_loss=1.620, val_acc\u001b[A\n",
      "Epoch 15: 100%|█| 3/3 [00:06<00:00,  2.19s/it, v_num=37, val_loss=1.620, val_acc\u001b[A\n",
      "Validation: 0it [00:00, ?it/s]\u001b[A\n",
      "Validation:   0%|                                         | 0/1 [00:00<?, ?it/s]\u001b[A\n",
      "Validation DataLoader 0:   0%|                            | 0/1 [00:00<?, ?it/s]\u001b[A\n",
      "Epoch 15: 100%|█| 3/3 [00:07<00:00,  2.35s/it, v_num=37, val_loss=1.300, val_acc\u001b[A\n",
      "Epoch 16: 100%|█| 3/3 [00:06<00:00,  2.01s/it, v_num=37, val_loss=1.300, val_acc\u001b[A\n",
      "Validation: 0it [00:00, ?it/s]\u001b[A\n",
      "Validation:   0%|                                         | 0/1 [00:00<?, ?it/s]\u001b[A\n",
      "Validation DataLoader 0:   0%|                            | 0/1 [00:00<?, ?it/s]\u001b[A\n",
      "Epoch 16: 100%|█| 3/3 [00:06<00:00,  2.16s/it, v_num=37, val_loss=1.220, val_acc\u001b[A\n",
      "Epoch 17: 100%|█| 3/3 [00:06<00:00,  2.13s/it, v_num=37, val_loss=1.220, val_acc\u001b[A\n",
      "Validation: 0it [00:00, ?it/s]\u001b[A\n",
      "Validation:   0%|                                         | 0/1 [00:00<?, ?it/s]\u001b[A\n",
      "Validation DataLoader 0:   0%|                            | 0/1 [00:00<?, ?it/s]\u001b[A\n",
      "Epoch 17: 100%|█| 3/3 [00:06<00:00,  2.28s/it, v_num=37, val_loss=1.220, val_acc\u001b[A\n",
      "Epoch 18: 100%|█| 3/3 [00:06<00:00,  2.08s/it, v_num=37, val_loss=1.220, val_acc\u001b[A\n",
      "Validation: 0it [00:00, ?it/s]\u001b[A\n",
      "Validation:   0%|                                         | 0/1 [00:00<?, ?it/s]\u001b[A\n",
      "Validation DataLoader 0:   0%|                            | 0/1 [00:00<?, ?it/s]\u001b[A\n",
      "Epoch 18: 100%|█| 3/3 [00:06<00:00,  2.24s/it, v_num=37, val_loss=1.260, val_acc\u001b[A\n",
      "Epoch 19: 100%|█| 3/3 [00:06<00:00,  2.22s/it, v_num=37, val_loss=1.260, val_acc\u001b[A\n",
      "Validation: 0it [00:00, ?it/s]\u001b[A\n",
      "Validation:   0%|                                         | 0/1 [00:00<?, ?it/s]\u001b[A\n",
      "Validation DataLoader 0:   0%|                            | 0/1 [00:00<?, ?it/s]\u001b[A\n",
      "Epoch 19: 100%|█| 3/3 [00:07<00:00,  2.41s/it, v_num=37, val_loss=1.350, val_acc\u001b[A\n",
      "Epoch 20: 100%|█| 3/3 [00:07<00:00,  2.35s/it, v_num=37, val_loss=1.350, val_acc\u001b[A\n",
      "Validation: 0it [00:00, ?it/s]\u001b[A\n",
      "Validation:   0%|                                         | 0/1 [00:00<?, ?it/s]\u001b[A\n",
      "Validation DataLoader 0:   0%|                            | 0/1 [00:00<?, ?it/s]\u001b[A\n",
      "Epoch 20: 100%|█| 3/3 [00:07<00:00,  2.55s/it, v_num=37, val_loss=1.250, val_acc\u001b[A\n",
      "Epoch 21: 100%|█| 3/3 [00:08<00:00,  2.83s/it, v_num=37, val_loss=1.250, val_acc\u001b[A\n",
      "Validation: 0it [00:00, ?it/s]\u001b[A\n",
      "Validation:   0%|                                         | 0/1 [00:00<?, ?it/s]\u001b[A\n",
      "Validation DataLoader 0:   0%|                            | 0/1 [00:00<?, ?it/s]\u001b[A\n",
      "Epoch 21: 100%|█| 3/3 [00:08<00:00,  2.99s/it, v_num=37, val_loss=1.270, val_acc\u001b[A\n",
      "Epoch 22: 100%|█| 3/3 [00:08<00:00,  2.78s/it, v_num=37, val_loss=1.270, val_acc\u001b[A\n",
      "Validation: 0it [00:00, ?it/s]\u001b[A\n",
      "Validation:   0%|                                         | 0/1 [00:00<?, ?it/s]\u001b[A\n",
      "Validation DataLoader 0:   0%|                            | 0/1 [00:00<?, ?it/s]\u001b[A\n",
      "Epoch 22: 100%|█| 3/3 [00:09<00:00,  3.00s/it, v_num=37, val_loss=1.100, val_acc\u001b[A\n",
      "Epoch 23: 100%|█| 3/3 [00:07<00:00,  2.65s/it, v_num=37, val_loss=1.100, val_acc\u001b[A\n",
      "Validation: 0it [00:00, ?it/s]\u001b[A\n",
      "Validation:   0%|                                         | 0/1 [00:00<?, ?it/s]\u001b[A\n",
      "Validation DataLoader 0:   0%|                            | 0/1 [00:00<?, ?it/s]\u001b[A\n",
      "Epoch 23: 100%|█| 3/3 [00:08<00:00,  2.82s/it, v_num=37, val_loss=1.170, val_acc\u001b[A\n",
      "Epoch 24: 100%|█| 3/3 [00:07<00:00,  2.35s/it, v_num=37, val_loss=1.170, val_acc\u001b[A\n",
      "Validation: 0it [00:00, ?it/s]\u001b[A\n",
      "Validation:   0%|                                         | 0/1 [00:00<?, ?it/s]\u001b[A\n",
      "Validation DataLoader 0:   0%|                            | 0/1 [00:00<?, ?it/s]\u001b[A\n",
      "Epoch 24: 100%|█| 3/3 [00:07<00:00,  2.52s/it, v_num=37, val_loss=1.200, val_acc\u001b[A\n",
      "Epoch 25: 100%|█| 3/3 [00:09<00:00,  3.03s/it, v_num=37, val_loss=1.200, val_acc\u001b[A\n",
      "Validation: 0it [00:00, ?it/s]\u001b[A\n",
      "Validation:   0%|                                         | 0/1 [00:00<?, ?it/s]\u001b[A\n",
      "Validation DataLoader 0:   0%|                            | 0/1 [00:00<?, ?it/s]\u001b[A\n",
      "Epoch 25: 100%|█| 3/3 [00:09<00:00,  3.24s/it, v_num=37, val_loss=1.540, val_acc\u001b[A\n",
      "Epoch 26: 100%|█| 3/3 [00:07<00:00,  2.55s/it, v_num=37, val_loss=1.540, val_acc\u001b[A\n",
      "Validation: 0it [00:00, ?it/s]\u001b[A\n",
      "Validation:   0%|                                         | 0/1 [00:00<?, ?it/s]\u001b[A\n",
      "Validation DataLoader 0:   0%|                            | 0/1 [00:00<?, ?it/s]\u001b[A\n",
      "Epoch 26: 100%|█| 3/3 [00:08<00:00,  2.74s/it, v_num=37, val_loss=1.070, val_acc\u001b[A\n",
      "Epoch 27: 100%|█| 3/3 [00:07<00:00,  2.38s/it, v_num=37, val_loss=1.070, val_acc\u001b[A\n",
      "Validation: 0it [00:00, ?it/s]\u001b[A\n",
      "Validation:   0%|                                         | 0/1 [00:00<?, ?it/s]\u001b[A\n",
      "Validation DataLoader 0:   0%|                            | 0/1 [00:00<?, ?it/s]\u001b[A\n",
      "Epoch 27: 100%|█| 3/3 [00:07<00:00,  2.53s/it, v_num=37, val_loss=1.120, val_acc\u001b[A\n",
      "Epoch 28: 100%|█| 3/3 [00:07<00:00,  2.50s/it, v_num=37, val_loss=1.120, val_acc\u001b[A\n",
      "Validation: 0it [00:00, ?it/s]\u001b[A\n",
      "Validation:   0%|                                         | 0/1 [00:00<?, ?it/s]\u001b[A\n",
      "Validation DataLoader 0:   0%|                            | 0/1 [00:00<?, ?it/s]\u001b[A\n",
      "Epoch 28: 100%|█| 3/3 [00:08<00:00,  2.71s/it, v_num=37, val_loss=1.110, val_acc\u001b[A\n",
      "Epoch 29: 100%|█| 3/3 [00:08<00:00,  2.95s/it, v_num=37, val_loss=1.110, val_acc\u001b[A\n",
      "Validation: 0it [00:00, ?it/s]\u001b[A\n",
      "Validation:   0%|                                         | 0/1 [00:00<?, ?it/s]\u001b[A\n",
      "Validation DataLoader 0:   0%|                            | 0/1 [00:00<?, ?it/s]\u001b[A\n",
      "Epoch 29: 100%|█| 3/3 [00:09<00:00,  3.21s/it, v_num=37, val_loss=1.060, val_acc\u001b[A\n",
      "Epoch 30: 100%|█| 3/3 [00:07<00:00,  2.38s/it, v_num=37, val_loss=1.060, val_acc\u001b[A\n",
      "Validation: 0it [00:00, ?it/s]\u001b[A\n",
      "Validation:   0%|                                         | 0/1 [00:00<?, ?it/s]\u001b[A\n",
      "Validation DataLoader 0:   0%|                            | 0/1 [00:00<?, ?it/s]\u001b[A\n",
      "Epoch 30: 100%|█| 3/3 [00:07<00:00,  2.56s/it, v_num=37, val_loss=0.974, val_acc\u001b[A\n",
      "Epoch 31: 100%|█| 3/3 [00:06<00:00,  2.21s/it, v_num=37, val_loss=0.974, val_acc\u001b[A\n",
      "Validation: 0it [00:00, ?it/s]\u001b[A\n",
      "Validation:   0%|                                         | 0/1 [00:00<?, ?it/s]\u001b[A\n",
      "Validation DataLoader 0:   0%|                            | 0/1 [00:00<?, ?it/s]\u001b[A\n",
      "Epoch 31: 100%|█| 3/3 [00:07<00:00,  2.38s/it, v_num=37, val_loss=1.040, val_acc\u001b[A\n",
      "Epoch 32: 100%|█| 3/3 [00:06<00:00,  2.27s/it, v_num=37, val_loss=1.040, val_acc\u001b[A\n",
      "Validation: 0it [00:00, ?it/s]\u001b[A\n",
      "Validation:   0%|                                         | 0/1 [00:00<?, ?it/s]\u001b[A\n",
      "Validation DataLoader 0:   0%|                            | 0/1 [00:00<?, ?it/s]\u001b[A\n",
      "Epoch 32: 100%|█| 3/3 [00:07<00:00,  2.45s/it, v_num=37, val_loss=1.110, val_acc\u001b[A\n",
      "Epoch 33: 100%|█| 3/3 [00:07<00:00,  2.40s/it, v_num=37, val_loss=1.110, val_acc\u001b[A\n",
      "Validation: 0it [00:00, ?it/s]\u001b[A\n",
      "Validation:   0%|                                         | 0/1 [00:00<?, ?it/s]\u001b[A\n",
      "Validation DataLoader 0:   0%|                            | 0/1 [00:00<?, ?it/s]\u001b[A\n",
      "Epoch 33: 100%|█| 3/3 [00:07<00:00,  2.63s/it, v_num=37, val_loss=1.050, val_acc\u001b[A\n",
      "Epoch 34: 100%|█| 3/3 [00:08<00:00,  2.87s/it, v_num=37, val_loss=1.050, val_acc\u001b[A\n",
      "Validation: 0it [00:00, ?it/s]\u001b[A\n",
      "Validation:   0%|                                         | 0/1 [00:00<?, ?it/s]\u001b[A\n",
      "Validation DataLoader 0:   0%|                            | 0/1 [00:00<?, ?it/s]\u001b[A\n",
      "Epoch 34: 100%|█| 3/3 [00:09<00:00,  3.10s/it, v_num=37, val_loss=1.110, val_acc\u001b[A\n",
      "Epoch 35: 100%|█| 3/3 [00:09<00:00,  3.05s/it, v_num=37, val_loss=1.110, val_acc\u001b[A\n",
      "Validation: 0it [00:00, ?it/s]\u001b[A\n",
      "Validation:   0%|                                         | 0/1 [00:00<?, ?it/s]\u001b[A\n",
      "Validation DataLoader 0:   0%|                            | 0/1 [00:00<?, ?it/s]\u001b[A\n",
      "Epoch 35: 100%|█| 3/3 [00:09<00:00,  3.21s/it, v_num=37, val_loss=1.190, val_acc\u001b[A\n",
      "Epoch 36: 100%|█| 3/3 [00:07<00:00,  2.35s/it, v_num=37, val_loss=1.190, val_acc\u001b[A\n",
      "Validation: 0it [00:00, ?it/s]\u001b[A\n",
      "Validation:   0%|                                         | 0/1 [00:00<?, ?it/s]\u001b[A\n",
      "Validation DataLoader 0:   0%|                            | 0/1 [00:00<?, ?it/s]\u001b[A\n",
      "Epoch 36: 100%|█| 3/3 [00:07<00:00,  2.53s/it, v_num=37, val_loss=1.090, val_acc\u001b[A\n",
      "Epoch 37: 100%|█| 3/3 [00:07<00:00,  2.48s/it, v_num=37, val_loss=1.090, val_acc\u001b[A\n",
      "Validation: 0it [00:00, ?it/s]\u001b[A\n",
      "Validation:   0%|                                         | 0/1 [00:00<?, ?it/s]\u001b[A\n",
      "Validation DataLoader 0:   0%|                            | 0/1 [00:00<?, ?it/s]\u001b[A\n",
      "Epoch 37: 100%|█| 3/3 [00:07<00:00,  2.64s/it, v_num=37, val_loss=1.060, val_acc\u001b[A\n",
      "Epoch 38: 100%|█| 3/3 [00:07<00:00,  2.48s/it, v_num=37, val_loss=1.060, val_acc\u001b[A\n",
      "Validation: 0it [00:00, ?it/s]\u001b[A\n",
      "Validation:   0%|                                         | 0/1 [00:00<?, ?it/s]\u001b[A\n",
      "Validation DataLoader 0:   0%|                            | 0/1 [00:00<?, ?it/s]\u001b[A\n",
      "Epoch 38: 100%|█| 3/3 [00:07<00:00,  2.65s/it, v_num=37, val_loss=0.891, val_acc\u001b[A\n",
      "Epoch 39: 100%|█| 3/3 [00:06<00:00,  2.30s/it, v_num=37, val_loss=0.891, val_acc\u001b[A\n",
      "Validation: 0it [00:00, ?it/s]\u001b[A\n",
      "Validation:   0%|                                         | 0/1 [00:00<?, ?it/s]\u001b[A\n",
      "Validation DataLoader 0:   0%|                            | 0/1 [00:00<?, ?it/s]\u001b[A\n",
      "Epoch 39: 100%|█| 3/3 [00:07<00:00,  2.49s/it, v_num=37, val_loss=1.060, val_acc\u001b[A\n",
      "Epoch 40: 100%|█| 3/3 [00:07<00:00,  2.44s/it, v_num=37, val_loss=1.060, val_acc\u001b[A\n",
      "Validation: 0it [00:00, ?it/s]\u001b[A\n",
      "Validation:   0%|                                         | 0/1 [00:00<?, ?it/s]\u001b[A\n",
      "Validation DataLoader 0:   0%|                            | 0/1 [00:00<?, ?it/s]\u001b[A\n",
      "Epoch 40: 100%|█| 3/3 [00:07<00:00,  2.63s/it, v_num=37, val_loss=0.931, val_acc\u001b[A\n",
      "Epoch 41: 100%|█| 3/3 [00:06<00:00,  2.26s/it, v_num=37, val_loss=0.931, val_acc\u001b[A\n",
      "Validation: 0it [00:00, ?it/s]\u001b[A\n",
      "Validation:   0%|                                         | 0/1 [00:00<?, ?it/s]\u001b[A\n",
      "Validation DataLoader 0:   0%|                            | 0/1 [00:00<?, ?it/s]\u001b[A\n",
      "Epoch 41: 100%|█| 3/3 [00:07<00:00,  2.43s/it, v_num=37, val_loss=0.870, val_acc\u001b[A\n",
      "Epoch 42: 100%|█| 3/3 [00:06<00:00,  2.20s/it, v_num=37, val_loss=0.870, val_acc\u001b[A\n",
      "Validation: 0it [00:00, ?it/s]\u001b[A\n",
      "Validation:   0%|                                         | 0/1 [00:00<?, ?it/s]\u001b[A\n",
      "Validation DataLoader 0:   0%|                            | 0/1 [00:00<?, ?it/s]\u001b[A\n",
      "Epoch 42: 100%|█| 3/3 [00:07<00:00,  2.39s/it, v_num=37, val_loss=0.838, val_acc\u001b[A\n",
      "Epoch 43: 100%|█| 3/3 [00:06<00:00,  2.29s/it, v_num=37, val_loss=0.838, val_acc\u001b[A\n",
      "Validation: 0it [00:00, ?it/s]\u001b[A\n",
      "Validation:   0%|                                         | 0/1 [00:00<?, ?it/s]\u001b[A\n",
      "Validation DataLoader 0:   0%|                            | 0/1 [00:00<?, ?it/s]\u001b[A\n",
      "Epoch 43: 100%|█| 3/3 [00:07<00:00,  2.48s/it, v_num=37, val_loss=1.020, val_acc\u001b[A\n",
      "Epoch 44: 100%|█| 3/3 [00:06<00:00,  2.24s/it, v_num=37, val_loss=1.020, val_acc\u001b[A\n",
      "Validation: 0it [00:00, ?it/s]\u001b[A\n",
      "Validation:   0%|                                         | 0/1 [00:00<?, ?it/s]\u001b[A\n",
      "Validation DataLoader 0:   0%|                            | 0/1 [00:00<?, ?it/s]\u001b[A\n",
      "Epoch 44: 100%|█| 3/3 [00:07<00:00,  2.41s/it, v_num=37, val_loss=1.130, val_acc\u001b[A\n",
      "Epoch 45: 100%|█| 3/3 [00:07<00:00,  2.39s/it, v_num=37, val_loss=1.130, val_acc\u001b[A\n",
      "Validation: 0it [00:00, ?it/s]\u001b[A\n",
      "Validation:   0%|                                         | 0/1 [00:00<?, ?it/s]\u001b[A\n",
      "Validation DataLoader 0:   0%|                            | 0/1 [00:00<?, ?it/s]\u001b[A\n",
      "Epoch 45: 100%|█| 3/3 [00:07<00:00,  2.56s/it, v_num=37, val_loss=0.889, val_acc\u001b[A\n",
      "Epoch 46: 100%|█| 3/3 [00:06<00:00,  2.19s/it, v_num=37, val_loss=0.889, val_acc\u001b[A\n",
      "Validation: 0it [00:00, ?it/s]\u001b[A\n",
      "Validation:   0%|                                         | 0/1 [00:00<?, ?it/s]\u001b[A\n",
      "Validation DataLoader 0:   0%|                            | 0/1 [00:00<?, ?it/s]\u001b[A\n",
      "Epoch 46: 100%|█| 3/3 [00:07<00:00,  2.35s/it, v_num=37, val_loss=0.912, val_acc\u001b[A\n",
      "Epoch 47: 100%|█| 3/3 [00:06<00:00,  2.15s/it, v_num=37, val_loss=0.912, val_acc\u001b[A\n",
      "Validation: 0it [00:00, ?it/s]\u001b[A\n",
      "Validation:   0%|                                         | 0/1 [00:00<?, ?it/s]\u001b[A\n",
      "Validation DataLoader 0:   0%|                            | 0/1 [00:00<?, ?it/s]\u001b[A\n",
      "Epoch 47: 100%|█| 3/3 [00:06<00:00,  2.32s/it, v_num=37, val_loss=1.060, val_acc\u001b[A\n",
      "Epoch 48: 100%|█| 3/3 [00:06<00:00,  2.21s/it, v_num=37, val_loss=1.060, val_acc\u001b[A\n",
      "Validation: 0it [00:00, ?it/s]\u001b[A\n",
      "Validation:   0%|                                         | 0/1 [00:00<?, ?it/s]\u001b[A\n",
      "Validation DataLoader 0:   0%|                            | 0/1 [00:00<?, ?it/s]\u001b[A\n",
      "Epoch 48: 100%|█| 3/3 [00:07<00:00,  2.39s/it, v_num=37, val_loss=0.919, val_acc\u001b[A\n",
      "Epoch 49: 100%|█| 3/3 [00:06<00:00,  2.16s/it, v_num=37, val_loss=0.919, val_acc\u001b[A\n",
      "Validation: 0it [00:00, ?it/s]\u001b[A\n",
      "Validation:   0%|                                         | 0/1 [00:00<?, ?it/s]\u001b[A\n",
      "Validation DataLoader 0:   0%|                            | 0/1 [00:00<?, ?it/s]\u001b[A\n",
      "Epoch 49: 100%|█| 3/3 [00:07<00:00,  2.34s/it, v_num=37, val_loss=0.925, val_acc\u001b[A\n",
      "Epoch 49: 100%|█| 3/3 [00:07<00:00,  2.34s/it, v_num=37, val_loss=0.925, val_acc\u001b[A"
     ]
    },
    {
     "name": "stderr",
     "output_type": "stream",
     "text": [
      "`Trainer.fit` stopped: `max_epochs=50` reached.\n"
     ]
    },
    {
     "name": "stdout",
     "output_type": "stream",
     "text": [
      "Epoch 49: 100%|█| 3/3 [00:07<00:00,  2.34s/it, v_num=37, val_loss=0.925, val_acc\n",
      "Time consumed: 371.02\n"
     ]
    }
   ],
   "source": [
    "start = time.time()\n",
    "trainer.fit(model=lightning_model, datamodule=datamodule)\n",
    "end = time.time()\n",
    "print(f\"Time consumed: {(end - start):.2f}\")"
   ]
  },
  {
   "cell_type": "code",
   "execution_count": 11,
   "id": "8e40b8f9-52e8-4c38-a381-358e44edbd31",
   "metadata": {},
   "outputs": [],
   "source": [
    "def plot_loss_and_acc(\n",
    "    log_dir, loss_ylim=(0.0, 0.9), acc_ylim=(0.7, 1.0), save_loss=None, save_acc=None\n",
    "):\n",
    "\n",
    "    metrics = pd.read_csv(f\"{log_dir}/metrics.csv\")\n",
    "\n",
    "    aggreg_metrics = []\n",
    "    agg_col = \"epoch\"\n",
    "    for i, dfg in metrics.groupby(agg_col):\n",
    "        agg = dict(dfg.mean())\n",
    "        agg[agg_col] = i\n",
    "        aggreg_metrics.append(agg)\n",
    "\n",
    "    df_metrics = pd.DataFrame(aggreg_metrics)\n",
    "    df_metrics[[\"train_loss\", \"val_loss\"]].plot(\n",
    "        grid=True, legend=True, xlabel=\"Epoch\", ylabel=\"Loss\"\n",
    "    )\n",
    "\n",
    "    df_metrics[[\"train_acc\", \"val_acc\"]].plot(\n",
    "        grid=True, legend=True, xlabel=\"Epoch\", ylabel=\"ACC\"\n",
    "    )"
   ]
  },
  {
   "cell_type": "code",
   "execution_count": 14,
   "id": "5cac049b-c399-4056-ba35-28f014f76ef2",
   "metadata": {},
   "outputs": [
    {
     "data": {
      "image/png": "[encoded data removed]",
      "text/plain": [
       "<Figure size 640x480 with 1 Axes>"
      ]
     },
     "metadata": {},
     "output_type": "display_data"
    },
    {
     "data": {
      "image/png": "[encoded data removed]",
      "text/plain": [
       "<Figure size 640x480 with 1 Axes>"
      ]
     },
     "metadata": {},
     "output_type": "display_data"
    }
   ],
   "source": [
    "plot_loss_and_acc(log_dir=trainer.logger.log_dir)"
   ]
  },
  {
   "cell_type": "code",
   "execution_count": 15,
   "id": "3f9ef3e8-7a2c-4788-9492-884746ecb97f",
   "metadata": {},
   "outputs": [
    {
     "name": "stderr",
     "output_type": "stream",
     "text": [
      "/home/onuraydemir/miniconda3/envs/remenv/lib/python3.9/site-packages/lightning/pytorch/trainer/connectors/checkpoint_connector.py:149: UserWarning: `.test(ckpt_path=None)` was called without a model. The best model of the previous `fit` call will be used. You can pass `.test(ckpt_path='best')` to use the best model or `.test(ckpt_path='last')` to use the last model. If you pass a value, this warning will be silenced.\n",
      "  rank_zero_warn(\n",
      "Restoring states from the checkpoint path at ./lightning_logs/simpson_mnist/version_37/checkpoints/epoch=49-step=150.ckpt\n",
      "LOCAL_RANK: 0 - CUDA_VISIBLE_DEVICES: [0]\n",
      "Loaded model weights from the checkpoint at ./lightning_logs/simpson_mnist/version_37/checkpoints/epoch=49-step=150.ckpt\n",
      "/home/onuraydemir/miniconda3/envs/remenv/lib/python3.9/site-packages/lightning/pytorch/trainer/connectors/data_connector.py:438: PossibleUserWarning: The dataloader, test_dataloader, does not have many workers which may be a bottleneck. Consider increasing the value of the `num_workers` argument` (try 8 which is the number of cpus on this machine) in the `DataLoader` init to improve performance.\n",
      "  rank_zero_warn(\n"
     ]
    },
    {
     "name": "stdout",
     "output_type": "stream",
     "text": [
      "Testing DataLoader 0: 100%|███████████████████████| 1/1 [00:00<00:00,  8.16it/s]\n"
     ]
    },
    {
     "data": {
      "text/html": [
       "<pre style=\"white-space:pre;overflow-x:auto;line-height:normal;font-family:Menlo,'DejaVu Sans Mono',consolas,'Courier New',monospace\">┏━━━━━━━━━━━━━━━━━━━━━━━━━━━┳━━━━━━━━━━━━━━━━━━━━━━━━━━━┓\n",
       "┃<span style=\"font-weight: bold\">        Test metric        </span>┃<span style=\"font-weight: bold\">       DataLoader 0        </span>┃\n",
       "┡━━━━━━━━━━━━━━━━━━━━━━━━━━━╇━━━━━━━━━━━━━━━━━━━━━━━━━━━┩\n",
       "│<span style=\"color: #008080; text-decoration-color: #008080\">         test_acc          </span>│<span style=\"color: #800080; text-decoration-color: #800080\">     0.722000002861023     </span>│\n",
       "│<span style=\"color: #008080; text-decoration-color: #008080\">         test_loss         </span>│<span style=\"color: #800080; text-decoration-color: #800080\">    0.8923841118812561     </span>│\n",
       "└───────────────────────────┴───────────────────────────┘\n",
       "</pre>\n"
      ],
      "text/plain": [
       "┏━━━━━━━━━━━━━━━━━━━━━━━━━━━┳━━━━━━━━━━━━━━━━━━━━━━━━━━━┓\n",
       "┃\u001b[1m \u001b[0m\u001b[1m       Test metric       \u001b[0m\u001b[1m \u001b[0m┃\u001b[1m \u001b[0m\u001b[1m      DataLoader 0       \u001b[0m\u001b[1m \u001b[0m┃\n",
       "┡━━━━━━━━━━━━━━━━━━━━━━━━━━━╇━━━━━━━━━━━━━━━━━━━━━━━━━━━┩\n",
       "│\u001b[36m \u001b[0m\u001b[36m        test_acc         \u001b[0m\u001b[36m \u001b[0m│\u001b[35m \u001b[0m\u001b[35m    0.722000002861023    \u001b[0m\u001b[35m \u001b[0m│\n",
       "│\u001b[36m \u001b[0m\u001b[36m        test_loss        \u001b[0m\u001b[36m \u001b[0m│\u001b[35m \u001b[0m\u001b[35m   0.8923841118812561    \u001b[0m\u001b[35m \u001b[0m│\n",
       "└───────────────────────────┴───────────────────────────┘\n"
      ]
     },
     "metadata": {},
     "output_type": "display_data"
    },
    {
     "data": {
      "text/plain": [
       "[{'test_loss': 0.8923841118812561, 'test_acc': 0.722000002861023}]"
      ]
     },
     "execution_count": 15,
     "metadata": {},
     "output_type": "execute_result"
    }
   ],
   "source": [
    "trainer.test(dataloaders=datamodule)"
   ]
  },
  {
   "cell_type": "code",
   "execution_count": null,
   "id": "82d8b11d-0d80-4bd3-a760-342d0782095b",
   "metadata": {},
   "outputs": [],
   "source": []
  }
 ],
 "metadata": {
  "kernelspec": {
   "display_name": "remenv",
   "language": "python",
   "name": "remenv"
  },
  "language_info": {
   "codemirror_mode": {
    "name": "ipython",
    "version": 3
   },
   "file_extension": ".py",
   "mimetype": "text/x-python",
   "name": "python",
   "nbconvert_exporter": "python",
   "pygments_lexer": "ipython3",
   "version": "3.9.16"
  }
 },
 "nbformat": 4,
 "nbformat_minor": 5
}

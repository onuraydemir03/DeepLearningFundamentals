{
 "cells": [
  {
   "cell_type": "code",
   "execution_count": 1,
   "id": "01f76376-7173-41f5-85e5-d1ff6b27fa81",
   "metadata": {},
   "outputs": [],
   "source": [
    "import torch\n",
    "from torch import nn"
   ]
  },
  {
   "cell_type": "markdown",
   "id": "f9f60d34-1835-43ec-87bd-3abe88295d6f",
   "metadata": {},
   "source": [
    "# Classic Simple PyTorch CNN Model\n",
    "- This model have 3 Conv layers and 4 fc layers\n",
    "\n",
    "## Model Arch\n",
    "<img src=\"Arch.svg\" width=\"1000\" height=\"400\">"
   ]
  },
  {
   "cell_type": "markdown",
   "id": "170f988e-17cf-4daa-b504-a65f263b5c95",
   "metadata": {},
   "source": [
    "# Torch Model\n",
    "- Takes 3 channel RGB image as input, produces 10 dimensional class scores\n",
    "- Has 3 conv, 3 fc layers"
   ]
  },
  {
   "cell_type": "code",
   "execution_count": 2,
   "id": "72d16efd-c1be-452c-9694-d223517773da",
   "metadata": {},
   "outputs": [],
   "source": [
    "class TorchModel(nn.Module):\n",
    "    def __init__(self, num_classes):\n",
    "        super().__init__()\n",
    "        self.cnn_layers = nn.Sequential(\n",
    "            nn.Conv2d(in_channels=3, out_channels=16, kernel_size=3),\n",
    "            nn.BatchNorm2d(16),\n",
    "            nn.ReLU(),\n",
    "            nn.MaxPool2d(kernel_size=2),\n",
    "\n",
    "            nn.Conv2d(in_channels=16, out_channels=32, kernel_size=3),\n",
    "            nn.BatchNorm2d(32),\n",
    "            nn.ReLU(),\n",
    "            nn.MaxPool2d(kernel_size=2),\n",
    "\n",
    "            nn.Conv2d(in_channels=32, out_channels=32, kernel_size=3),\n",
    "            nn.BatchNorm2d(32),\n",
    "            nn.ReLU(),\n",
    "            nn.MaxPool2d(kernel_size=2)\n",
    "        )\n",
    "\n",
    "        self.fc_layers = nn.Sequential(\n",
    "            nn.Linear(in_features=512, out_features=256),\n",
    "            nn.BatchNorm1d(256),\n",
    "            nn.ReLU(),\n",
    "\n",
    "            nn.Linear(in_features=256, out_features=128),\n",
    "            nn.BatchNorm1d(128),\n",
    "            nn.ReLU(),\n",
    "\n",
    "            nn.Linear(in_features=128, out_features=64),\n",
    "            nn.BatchNorm1d(64),\n",
    "            nn.ReLU(),\n",
    "\n",
    "            nn.Linear(in_features=64, out_features=num_classes)\n",
    "        )\n",
    "\n",
    "    def forward(self, x):\n",
    "        x = self.cnn_layers(x)\n",
    "        x_flat = x.flatten(start_dim=1)\n",
    "        logits = self.fc_layers(x_flat)\n",
    "        return logits"
   ]
  },
  {
   "cell_type": "code",
   "execution_count": 7,
   "id": "511f068e-34d2-4784-a538-be1573c94eab",
   "metadata": {},
   "outputs": [
    {
     "name": "stdout",
     "output_type": "stream",
     "text": [
      "----------------------------------------------------------------\n",
      "        Layer (type)               Output Shape         Param #\n",
      "================================================================\n",
      "            Conv2d-1           [64, 16, 46, 46]             448\n",
      "       BatchNorm2d-2           [64, 16, 46, 46]              32\n",
      "              ReLU-3           [64, 16, 46, 46]               0\n",
      "         MaxPool2d-4           [64, 16, 23, 23]               0\n",
      "            Conv2d-5           [64, 32, 21, 21]           4,640\n",
      "       BatchNorm2d-6           [64, 32, 21, 21]              64\n",
      "              ReLU-7           [64, 32, 21, 21]               0\n",
      "         MaxPool2d-8           [64, 32, 10, 10]               0\n",
      "            Conv2d-9             [64, 32, 8, 8]           9,248\n",
      "      BatchNorm2d-10             [64, 32, 8, 8]              64\n",
      "             ReLU-11             [64, 32, 8, 8]               0\n",
      "        MaxPool2d-12             [64, 32, 4, 4]               0\n",
      "           Linear-13                  [64, 256]         131,328\n",
      "      BatchNorm1d-14                  [64, 256]             512\n",
      "             ReLU-15                  [64, 256]               0\n",
      "           Linear-16                  [64, 128]          32,896\n",
      "      BatchNorm1d-17                  [64, 128]             256\n",
      "             ReLU-18                  [64, 128]               0\n",
      "           Linear-19                   [64, 64]           8,256\n",
      "      BatchNorm1d-20                   [64, 64]             128\n",
      "             ReLU-21                   [64, 64]               0\n",
      "           Linear-22                   [64, 10]             650\n",
      "================================================================\n",
      "Total params: 188,522\n",
      "Trainable params: 188,522\n",
      "Non-trainable params: 0\n",
      "----------------------------------------------------------------\n",
      "Input size (MB): 1.69\n",
      "Forward/backward pass size (MB): 79.87\n",
      "Params size (MB): 0.72\n",
      "Estimated Total Size (MB): 82.28\n",
      "----------------------------------------------------------------\n"
     ]
    }
   ],
   "source": [
    "model = TorchModel(num_classes=10)\n",
    "from torchsummary import summary\n",
    "summary(model, (3, 48, 48), device=\"cpu\", batch_size=64)"
   ]
  },
  {
   "cell_type": "code",
   "execution_count": null,
   "id": "5cd65ff6-378e-405e-9efb-695027b2b2af",
   "metadata": {},
   "outputs": [],
   "source": []
  }
 ],
 "metadata": {
  "kernelspec": {
   "display_name": "remenv",
   "language": "python",
   "name": "remenv"
  },
  "language_info": {
   "codemirror_mode": {
    "name": "ipython",
    "version": 3
   },
   "file_extension": ".py",
   "mimetype": "text/x-python",
   "name": "python",
   "nbconvert_exporter": "python",
   "pygments_lexer": "ipython3",
   "version": "3.9.16"
  }
 },
 "nbformat": 4,
 "nbformat_minor": 5
}
